{
 "cells": [
  {
   "cell_type": "markdown",
   "id": "dadeb7d9-86a4-49c3-8bea-693090d7dcd2",
   "metadata": {},
   "source": [
    "EPLORATORY DATA ANALYSIS ON SALARIES "
   ]
  },
  {
   "cell_type": "code",
   "execution_count": 26,
   "id": "9c3408ff-8de3-4a12-98fd-5afe4cb4418f",
   "metadata": {},
   "outputs": [],
   "source": [
    "import matplotlib.pyplot as plt\n",
    "import numpy as np\n",
    "import pandas as pd\n",
    "from scipy import stats\n",
    "import seaborn as sns\n",
    "import statsmodels.api as sms\n",
    "import statsmodels.api as sm\n",
    "import statsmodels.formula.api as smf\n",
    "\n",
    "\n",
    "%matplotlib inline"
   ]
  },
  {
   "cell_type": "code",
   "execution_count": 5,
   "id": "0faefa2a-e780-4419-bee0-007c02d4edaf",
   "metadata": {},
   "outputs": [
    {
     "data": {
      "text/html": [
       "<div>\n",
       "<style scoped>\n",
       "    .dataframe tbody tr th:only-of-type {\n",
       "        vertical-align: middle;\n",
       "    }\n",
       "\n",
       "    .dataframe tbody tr th {\n",
       "        vertical-align: top;\n",
       "    }\n",
       "\n",
       "    .dataframe thead th {\n",
       "        text-align: right;\n",
       "    }\n",
       "</style>\n",
       "<table border=\"1\" class=\"dataframe\">\n",
       "  <thead>\n",
       "    <tr style=\"text-align: right;\">\n",
       "      <th></th>\n",
       "      <th>Unnamed: 0</th>\n",
       "      <th>SALARY</th>\n",
       "      <th>EDUC</th>\n",
       "      <th>SALBEGIN</th>\n",
       "      <th>GENDER</th>\n",
       "      <th>MINORITY</th>\n",
       "      <th>JOBCAT</th>\n",
       "    </tr>\n",
       "  </thead>\n",
       "  <tbody>\n",
       "    <tr>\n",
       "      <th>0</th>\n",
       "      <td>0</td>\n",
       "      <td>57000</td>\n",
       "      <td>15</td>\n",
       "      <td>27000</td>\n",
       "      <td>1</td>\n",
       "      <td>0</td>\n",
       "      <td>3</td>\n",
       "    </tr>\n",
       "    <tr>\n",
       "      <th>1</th>\n",
       "      <td>1</td>\n",
       "      <td>40200</td>\n",
       "      <td>16</td>\n",
       "      <td>18750</td>\n",
       "      <td>1</td>\n",
       "      <td>0</td>\n",
       "      <td>1</td>\n",
       "    </tr>\n",
       "    <tr>\n",
       "      <th>2</th>\n",
       "      <td>2</td>\n",
       "      <td>21450</td>\n",
       "      <td>12</td>\n",
       "      <td>12000</td>\n",
       "      <td>0</td>\n",
       "      <td>0</td>\n",
       "      <td>1</td>\n",
       "    </tr>\n",
       "    <tr>\n",
       "      <th>3</th>\n",
       "      <td>3</td>\n",
       "      <td>21900</td>\n",
       "      <td>8</td>\n",
       "      <td>13200</td>\n",
       "      <td>0</td>\n",
       "      <td>0</td>\n",
       "      <td>1</td>\n",
       "    </tr>\n",
       "    <tr>\n",
       "      <th>4</th>\n",
       "      <td>4</td>\n",
       "      <td>45000</td>\n",
       "      <td>15</td>\n",
       "      <td>21000</td>\n",
       "      <td>1</td>\n",
       "      <td>0</td>\n",
       "      <td>1</td>\n",
       "    </tr>\n",
       "    <tr>\n",
       "      <th>5</th>\n",
       "      <td>5</td>\n",
       "      <td>32100</td>\n",
       "      <td>15</td>\n",
       "      <td>13500</td>\n",
       "      <td>1</td>\n",
       "      <td>0</td>\n",
       "      <td>1</td>\n",
       "    </tr>\n",
       "    <tr>\n",
       "      <th>6</th>\n",
       "      <td>6</td>\n",
       "      <td>36000</td>\n",
       "      <td>15</td>\n",
       "      <td>18750</td>\n",
       "      <td>1</td>\n",
       "      <td>0</td>\n",
       "      <td>1</td>\n",
       "    </tr>\n",
       "    <tr>\n",
       "      <th>7</th>\n",
       "      <td>7</td>\n",
       "      <td>21900</td>\n",
       "      <td>12</td>\n",
       "      <td>9750</td>\n",
       "      <td>0</td>\n",
       "      <td>0</td>\n",
       "      <td>1</td>\n",
       "    </tr>\n",
       "    <tr>\n",
       "      <th>8</th>\n",
       "      <td>8</td>\n",
       "      <td>27900</td>\n",
       "      <td>15</td>\n",
       "      <td>12750</td>\n",
       "      <td>0</td>\n",
       "      <td>0</td>\n",
       "      <td>1</td>\n",
       "    </tr>\n",
       "    <tr>\n",
       "      <th>9</th>\n",
       "      <td>9</td>\n",
       "      <td>24000</td>\n",
       "      <td>12</td>\n",
       "      <td>13500</td>\n",
       "      <td>0</td>\n",
       "      <td>0</td>\n",
       "      <td>1</td>\n",
       "    </tr>\n",
       "  </tbody>\n",
       "</table>\n",
       "</div>"
      ],
      "text/plain": [
       "   Unnamed: 0  SALARY  EDUC  SALBEGIN  GENDER  MINORITY  JOBCAT\n",
       "0           0   57000    15     27000       1         0       3\n",
       "1           1   40200    16     18750       1         0       1\n",
       "2           2   21450    12     12000       0         0       1\n",
       "3           3   21900     8     13200       0         0       1\n",
       "4           4   45000    15     21000       1         0       1\n",
       "5           5   32100    15     13500       1         0       1\n",
       "6           6   36000    15     18750       1         0       1\n",
       "7           7   21900    12      9750       0         0       1\n",
       "8           8   27900    15     12750       0         0       1\n",
       "9           9   24000    12     13500       0         0       1"
      ]
     },
     "execution_count": 5,
     "metadata": {},
     "output_type": "execute_result"
    }
   ],
   "source": [
    "salary = pd.read_csv(\"/Users/raymondboateng/neuefische/EDA/data/us_bank_wages.csv\") \n",
    "salary.head(10)"
   ]
  },
  {
   "cell_type": "markdown",
   "id": "6a7b1b85-9c03-4c09-9f3b-df108e6b0567",
   "metadata": {},
   "source": [
    "Hypothesis:\n",
    "\n",
    "1. Educated population will earn more beginner´s salary and high annual salary \n",
    "\n",
    "2. Strong correlation between gender and salary and between Minority and Salary, and also between all three\n",
    "\n",
    "3. Majority of people should cluster around in the median salary and should be able to buy in these neighborhoods (Check outliers)/ industry\n"
   ]
  },
  {
   "cell_type": "code",
   "execution_count": 8,
   "id": "ab88a75a-a9d7-4c39-a991-c4f1350cd1ae",
   "metadata": {},
   "outputs": [
    {
     "data": {
      "image/png": "[encoded data removed]",
      "text/plain": [
       "<Figure size 432x288 with 1 Axes>"
      ]
     },
     "metadata": {
      "needs_background": "light"
     },
     "output_type": "display_data"
    }
   ],
   "source": [
    "#Test Hypothesis 1\n",
    "#Plot to view relationship\n",
    "salary.plot(x='EDUC', \n",
    "          y='SALARY', \n",
    "          kind='scatter');"
   ]
  },
  {
   "cell_type": "code",
   "execution_count": 9,
   "id": "8c30efa3-33d5-45e2-a2c2-9c7f48d953e2",
   "metadata": {},
   "outputs": [],
   "source": [
    "#Regression Analyses to on the relation between Education and Salary\n",
    "def get_line_equation(p1, p2):\n",
    "    \"\"\"\n",
    "    Solve the system of equations:\n",
    "    y1 = m*x1 + b\n",
    "    y2 = m*x2 + b\n",
    "    \n",
    "    This translates to:\n",
    "    m = (y2 - y1) / (x2 - x1)\n",
    "    b = y1 - m*x1\n",
    "    \n",
    "    Input:\n",
    "    p1: first point [x1, y1]\n",
    "    p2: second point [x2, y2]\n",
    "    \n",
    "    returns: slope, intercept\n",
    "    \"\"\"\n",
    "    m = (p2[1] - p1[1]) / (p2[0] - p1[0]) # Slope\n",
    "    b = p1[1] - m * p1[0] # Intercept\n",
    "    return  m, b"
   ]
  },
  {
   "cell_type": "code",
   "execution_count": 11,
   "id": "b955fdd8-5363-412a-bfc6-25909fb1b085",
   "metadata": {},
   "outputs": [
    {
     "name": "stdout",
     "output_type": "stream",
     "text": [
      "intercept:  7.4239999999999995\n",
      "slope:  0.00021333333333333333\n"
     ]
    }
   ],
   "source": [
    "# Calculate the intercept and slope of a line between two points\n",
    "Line1 = [salary.SALARY[1],salary.EDUC[1]]\n",
    "Line2 = [salary.SALARY[2],salary.EDUC[2]]\n",
    "slope, intercept = get_line_equation(p1=Line1, p2=Line2) \n",
    "print('intercept: ', intercept)\n",
    "print('slope: ', slope)"
   ]
  },
  {
   "cell_type": "code",
   "execution_count": 16,
   "id": "c702007f-b4bb-4de8-b153-3aae93b95488",
   "metadata": {},
   "outputs": [
    {
     "data": {
      "image/png": "[encoded data removed]",
      "text/plain": [
       "<Figure size 432x288 with 1 Axes>"
      ]
     },
     "metadata": {
      "needs_background": "light"
     },
     "output_type": "display_data"
    }
   ],
   "source": [
    "# Plot line fitted on two points versus on all of the points\n",
    "fig = salary.plot(x='EDUC', \n",
    "                y='SALARY', \n",
    "                kind='scatter')\n",
    "# plot the linear regression line\n",
    "plt.plot(np.unique(salary.EDUC), np.poly1d(np.polyfit(salary.EDUC, salary.SALARY, 1))(np.unique(salary.EDUC)));\n",
    "# plot the line between two points\n",
    "#plt.plot([car1[0], car2[0]], [car1[1], car2[1]], color=\"red\", linewidth=4)\n",
    "plt.title(\"Linear Regression Line\");"
   ]
  },
  {
   "cell_type": "code",
   "execution_count": 18,
   "id": "d1292de3-7130-4448-b869-1ea7de94ee21",
   "metadata": {},
   "outputs": [
    {
     "data": {
      "text/html": [
       "<div>\n",
       "<style scoped>\n",
       "    .dataframe tbody tr th:only-of-type {\n",
       "        vertical-align: middle;\n",
       "    }\n",
       "\n",
       "    .dataframe tbody tr th {\n",
       "        vertical-align: top;\n",
       "    }\n",
       "\n",
       "    .dataframe thead th {\n",
       "        text-align: right;\n",
       "    }\n",
       "</style>\n",
       "<table border=\"1\" class=\"dataframe\">\n",
       "  <thead>\n",
       "    <tr style=\"text-align: right;\">\n",
       "      <th></th>\n",
       "      <th>const</th>\n",
       "      <th>EDUC</th>\n",
       "    </tr>\n",
       "  </thead>\n",
       "  <tbody>\n",
       "    <tr>\n",
       "      <th>0</th>\n",
       "      <td>1.0</td>\n",
       "      <td>15</td>\n",
       "    </tr>\n",
       "    <tr>\n",
       "      <th>1</th>\n",
       "      <td>1.0</td>\n",
       "      <td>16</td>\n",
       "    </tr>\n",
       "    <tr>\n",
       "      <th>2</th>\n",
       "      <td>1.0</td>\n",
       "      <td>12</td>\n",
       "    </tr>\n",
       "    <tr>\n",
       "      <th>3</th>\n",
       "      <td>1.0</td>\n",
       "      <td>8</td>\n",
       "    </tr>\n",
       "    <tr>\n",
       "      <th>4</th>\n",
       "      <td>1.0</td>\n",
       "      <td>15</td>\n",
       "    </tr>\n",
       "  </tbody>\n",
       "</table>\n",
       "</div>"
      ],
      "text/plain": [
       "   const  EDUC\n",
       "0    1.0    15\n",
       "1    1.0    16\n",
       "2    1.0    12\n",
       "3    1.0     8\n",
       "4    1.0    15"
      ]
     },
     "metadata": {},
     "output_type": "display_data"
    },
    {
     "data": {
      "text/plain": [
       "0    57000\n",
       "1    40200\n",
       "2    21450\n",
       "3    21900\n",
       "4    45000\n",
       "Name: SALARY, dtype: int64"
      ]
     },
     "metadata": {},
     "output_type": "display_data"
    }
   ],
   "source": [
    "#The line shows correlation between annual salary and education\n",
    "#The strength of the correlation must be tested\n",
    "\n",
    "\n",
    "# Prepare data for modeling\n",
    "# Choose the predictor and add a constant term\n",
    "X = salary[['EDUC']]\n",
    "y = salary.SALARY\n",
    "# Our model needs an intercept so we add a column of 1s:\n",
    "X = sms.add_constant(X)\n",
    "display(X.head())\n",
    "display(y.head())\n"
   ]
  },
  {
   "cell_type": "code",
   "execution_count": 19,
   "id": "62abbc48-ebd6-40a0-b24f-1073d392bc44",
   "metadata": {},
   "outputs": [
    {
     "data": {
      "text/html": [
       "<table class=\"simpletable\">\n",
       "<caption>OLS Regression Results</caption>\n",
       "<tr>\n",
       "  <th>Dep. Variable:</th>         <td>SALARY</td>      <th>  R-squared:         </th> <td>   0.436</td> \n",
       "</tr>\n",
       "<tr>\n",
       "  <th>Model:</th>                   <td>OLS</td>       <th>  Adj. R-squared:    </th> <td>   0.435</td> \n",
       "</tr>\n",
       "<tr>\n",
       "  <th>Method:</th>             <td>Least Squares</td>  <th>  F-statistic:       </th> <td>   365.4</td> \n",
       "</tr>\n",
       "<tr>\n",
       "  <th>Date:</th>             <td>Mon, 31 May 2021</td> <th>  Prob (F-statistic):</th> <td>9.64e-61</td> \n",
       "</tr>\n",
       "<tr>\n",
       "  <th>Time:</th>                 <td>10:32:37</td>     <th>  Log-Likelihood:    </th> <td> -5155.5</td> \n",
       "</tr>\n",
       "<tr>\n",
       "  <th>No. Observations:</th>      <td>   474</td>      <th>  AIC:               </th> <td>1.032e+04</td>\n",
       "</tr>\n",
       "<tr>\n",
       "  <th>Df Residuals:</th>          <td>   472</td>      <th>  BIC:               </th> <td>1.032e+04</td>\n",
       "</tr>\n",
       "<tr>\n",
       "  <th>Df Model:</th>              <td>     1</td>      <th>                     </th>     <td> </td>    \n",
       "</tr>\n",
       "<tr>\n",
       "  <th>Covariance Type:</th>      <td>nonrobust</td>    <th>                     </th>     <td> </td>    \n",
       "</tr>\n",
       "</table>\n",
       "<table class=\"simpletable\">\n",
       "<tr>\n",
       "    <td></td>       <th>coef</th>     <th>std err</th>      <th>t</th>      <th>P>|t|</th>  <th>[0.025</th>    <th>0.975]</th>  \n",
       "</tr>\n",
       "<tr>\n",
       "  <th>const</th> <td>-1.833e+04</td> <td> 2821.912</td> <td>   -6.496</td> <td> 0.000</td> <td>-2.39e+04</td> <td>-1.28e+04</td>\n",
       "</tr>\n",
       "<tr>\n",
       "  <th>EDUC</th>  <td> 3909.9067</td> <td>  204.547</td> <td>   19.115</td> <td> 0.000</td> <td> 3507.971</td> <td> 4311.842</td>\n",
       "</tr>\n",
       "</table>\n",
       "<table class=\"simpletable\">\n",
       "<tr>\n",
       "  <th>Omnibus:</th>       <td>192.432</td> <th>  Durbin-Watson:     </th> <td>   1.863</td> \n",
       "</tr>\n",
       "<tr>\n",
       "  <th>Prob(Omnibus):</th> <td> 0.000</td>  <th>  Jarque-Bera (JB):  </th> <td> 891.498</td> \n",
       "</tr>\n",
       "<tr>\n",
       "  <th>Skew:</th>          <td> 1.759</td>  <th>  Prob(JB):          </th> <td>2.59e-194</td>\n",
       "</tr>\n",
       "<tr>\n",
       "  <th>Kurtosis:</th>      <td> 8.724</td>  <th>  Cond. No.          </th> <td>    66.4</td> \n",
       "</tr>\n",
       "</table><br/><br/>Notes:<br/>[1] Standard Errors assume that the covariance matrix of the errors is correctly specified."
      ],
      "text/plain": [
       "<class 'statsmodels.iolib.summary.Summary'>\n",
       "\"\"\"\n",
       "                            OLS Regression Results                            \n",
       "==============================================================================\n",
       "Dep. Variable:                 SALARY   R-squared:                       0.436\n",
       "Model:                            OLS   Adj. R-squared:                  0.435\n",
       "Method:                 Least Squares   F-statistic:                     365.4\n",
       "Date:                Mon, 31 May 2021   Prob (F-statistic):           9.64e-61\n",
       "Time:                        10:32:37   Log-Likelihood:                -5155.5\n",
       "No. Observations:                 474   AIC:                         1.032e+04\n",
       "Df Residuals:                     472   BIC:                         1.032e+04\n",
       "Df Model:                           1                                         \n",
       "Covariance Type:            nonrobust                                         \n",
       "==============================================================================\n",
       "                 coef    std err          t      P>|t|      [0.025      0.975]\n",
       "------------------------------------------------------------------------------\n",
       "const      -1.833e+04   2821.912     -6.496      0.000   -2.39e+04   -1.28e+04\n",
       "EDUC        3909.9067    204.547     19.115      0.000    3507.971    4311.842\n",
       "==============================================================================\n",
       "Omnibus:                      192.432   Durbin-Watson:                   1.863\n",
       "Prob(Omnibus):                  0.000   Jarque-Bera (JB):              891.498\n",
       "Skew:                           1.759   Prob(JB):                    2.59e-194\n",
       "Kurtosis:                       8.724   Cond. No.                         66.4\n",
       "==============================================================================\n",
       "\n",
       "Notes:\n",
       "[1] Standard Errors assume that the covariance matrix of the errors is correctly specified.\n",
       "\"\"\""
      ]
     },
     "execution_count": 19,
     "metadata": {},
     "output_type": "execute_result"
    }
   ],
   "source": [
    "# Create an OLS model\n",
    "model = sms.OLS(y, X)\n",
    "# use the data to calculate the intercept and slope\n",
    "results = model.fit()\n",
    "# return the output of the model\n",
    "results.summary()"
   ]
  },
  {
   "cell_type": "code",
   "execution_count": 20,
   "id": "266457ee-6abf-4880-b16b-365bea09d8dd",
   "metadata": {},
   "outputs": [],
   "source": [
    "# EDUC Coef shows that for each increase in number of finished years of education, there is an increase in annual salary of 3909.9067\n",
    "# The R2 value however is too weak to back the claim of a strong correlation "
   ]
  },
  {
   "cell_type": "code",
   "execution_count": 21,
   "id": "7ac6aeff-fc9a-4491-b6ac-3c9611ce0473",
   "metadata": {},
   "outputs": [
    {
     "data": {
      "text/plain": [
       "-18331.178033479882"
      ]
     },
     "execution_count": 21,
     "metadata": {},
     "output_type": "execute_result"
    }
   ],
   "source": [
    "intercept, slope = results.params\n",
    "intercept"
   ]
  },
  {
   "cell_type": "code",
   "execution_count": 22,
   "id": "5eba3a09-5d64-4ef2-bf62-26f230c92922",
   "metadata": {},
   "outputs": [
    {
     "data": {
      "image/png": "[encoded data removed]",
      "text/plain": [
       "<Figure size 576x288 with 1 Axes>"
      ]
     },
     "metadata": {
      "needs_background": "light"
     },
     "output_type": "display_data"
    }
   ],
   "source": [
    "# Plotting the results of our model\n",
    "fig, ax = plt.subplots(figsize=(8, 4))\n",
    "x = salary.EDUC\n",
    "# add data points\n",
    "ax.scatter(x, y, alpha=0.5, color='orchid')\n",
    "fig.suptitle('Relationship between weight and mpg')\n",
    "# plotting regression line\n",
    "ax.plot(x, x*slope +intercept, '-', color='darkorchid', linewidth=2);\n",
    "ax.set_ylabel(\"salary\");\n",
    "ax.set_xlabel(\"EDUC\");"
   ]
  },
  {
   "cell_type": "code",
   "execution_count": 32,
   "id": "c19cadc7-e61c-4da2-b3ba-7dd72437b199",
   "metadata": {},
   "outputs": [
    {
     "data": {
      "text/html": [
       "<table class=\"simpletable\">\n",
       "<caption>OLS Regression Results</caption>\n",
       "<tr>\n",
       "  <th>Dep. Variable:</th>         <td>GENDER</td>      <th>  R-squared:         </th> <td>   0.227</td>\n",
       "</tr>\n",
       "<tr>\n",
       "  <th>Model:</th>                   <td>OLS</td>       <th>  Adj. R-squared:    </th> <td>   0.224</td>\n",
       "</tr>\n",
       "<tr>\n",
       "  <th>Method:</th>             <td>Least Squares</td>  <th>  F-statistic:       </th> <td>   69.31</td>\n",
       "</tr>\n",
       "<tr>\n",
       "  <th>Date:</th>             <td>Mon, 31 May 2021</td> <th>  Prob (F-statistic):</th> <td>4.13e-27</td>\n",
       "</tr>\n",
       "<tr>\n",
       "  <th>Time:</th>                 <td>11:43:32</td>     <th>  Log-Likelihood:    </th> <td> -281.02</td>\n",
       "</tr>\n",
       "<tr>\n",
       "  <th>No. Observations:</th>      <td>   474</td>      <th>  AIC:               </th> <td>   568.0</td>\n",
       "</tr>\n",
       "<tr>\n",
       "  <th>Df Residuals:</th>          <td>   471</td>      <th>  BIC:               </th> <td>   580.5</td>\n",
       "</tr>\n",
       "<tr>\n",
       "  <th>Df Model:</th>              <td>     2</td>      <th>                     </th>     <td> </td>   \n",
       "</tr>\n",
       "<tr>\n",
       "  <th>Covariance Type:</th>      <td>nonrobust</td>    <th>                     </th>     <td> </td>   \n",
       "</tr>\n",
       "</table>\n",
       "<table class=\"simpletable\">\n",
       "<tr>\n",
       "      <td></td>         <th>coef</th>     <th>std err</th>      <th>t</th>      <th>P>|t|</th>  <th>[0.025</th>    <th>0.975]</th>  \n",
       "</tr>\n",
       "<tr>\n",
       "  <th>Intercept</th> <td>    0.0212</td> <td>    0.049</td> <td>    0.433</td> <td> 0.666</td> <td>   -0.075</td> <td>    0.117</td>\n",
       "</tr>\n",
       "<tr>\n",
       "  <th>SALARY</th>    <td> 1.397e-05</td> <td>  1.2e-06</td> <td>   11.624</td> <td> 0.000</td> <td> 1.16e-05</td> <td> 1.63e-05</td>\n",
       "</tr>\n",
       "<tr>\n",
       "  <th>MINORITY</th>  <td>    0.1932</td> <td>    0.050</td> <td>    3.900</td> <td> 0.000</td> <td>    0.096</td> <td>    0.290</td>\n",
       "</tr>\n",
       "</table>\n",
       "<table class=\"simpletable\">\n",
       "<tr>\n",
       "  <th>Omnibus:</th>       <td>3286.603</td> <th>  Durbin-Watson:     </th> <td>   1.227</td>\n",
       "</tr>\n",
       "<tr>\n",
       "  <th>Prob(Omnibus):</th>  <td> 0.000</td>  <th>  Jarque-Bera (JB):  </th> <td>  49.392</td>\n",
       "</tr>\n",
       "<tr>\n",
       "  <th>Skew:</th>           <td> 0.064</td>  <th>  Prob(JB):          </th> <td>1.88e-11</td>\n",
       "</tr>\n",
       "<tr>\n",
       "  <th>Kurtosis:</th>       <td> 1.424</td>  <th>  Cond. No.          </th> <td>1.10e+05</td>\n",
       "</tr>\n",
       "</table><br/><br/>Notes:<br/>[1] Standard Errors assume that the covariance matrix of the errors is correctly specified.<br/>[2] The condition number is large, 1.1e+05. This might indicate that there are<br/>strong multicollinearity or other numerical problems."
      ],
      "text/plain": [
       "<class 'statsmodels.iolib.summary.Summary'>\n",
       "\"\"\"\n",
       "                            OLS Regression Results                            \n",
       "==============================================================================\n",
       "Dep. Variable:                 GENDER   R-squared:                       0.227\n",
       "Model:                            OLS   Adj. R-squared:                  0.224\n",
       "Method:                 Least Squares   F-statistic:                     69.31\n",
       "Date:                Mon, 31 May 2021   Prob (F-statistic):           4.13e-27\n",
       "Time:                        11:43:32   Log-Likelihood:                -281.02\n",
       "No. Observations:                 474   AIC:                             568.0\n",
       "Df Residuals:                     471   BIC:                             580.5\n",
       "Df Model:                           2                                         \n",
       "Covariance Type:            nonrobust                                         \n",
       "==============================================================================\n",
       "                 coef    std err          t      P>|t|      [0.025      0.975]\n",
       "------------------------------------------------------------------------------\n",
       "Intercept      0.0212      0.049      0.433      0.666      -0.075       0.117\n",
       "SALARY      1.397e-05    1.2e-06     11.624      0.000    1.16e-05    1.63e-05\n",
       "MINORITY       0.1932      0.050      3.900      0.000       0.096       0.290\n",
       "==============================================================================\n",
       "Omnibus:                     3286.603   Durbin-Watson:                   1.227\n",
       "Prob(Omnibus):                  0.000   Jarque-Bera (JB):               49.392\n",
       "Skew:                           0.064   Prob(JB):                     1.88e-11\n",
       "Kurtosis:                       1.424   Cond. No.                     1.10e+05\n",
       "==============================================================================\n",
       "\n",
       "Notes:\n",
       "[1] Standard Errors assume that the covariance matrix of the errors is correctly specified.\n",
       "[2] The condition number is large, 1.1e+05. This might indicate that there are\n",
       "strong multicollinearity or other numerical problems.\n",
       "\"\"\""
      ]
     },
     "execution_count": 32,
     "metadata": {},
     "output_type": "execute_result"
    }
   ],
   "source": [
    "#Multiple Regression\n",
    "\n",
    "smf.ols(formula='GENDER ~ SALARY + MINORITY', data=salary).fit().summary()"
   ]
  },
  {
   "cell_type": "code",
   "execution_count": 34,
   "id": "349478ae-01b4-4f7d-a700-7b79da52a05e",
   "metadata": {},
   "outputs": [
    {
     "name": "stdout",
     "output_type": "stream",
     "text": [
      "2\n",
      "0      0\n",
      "1      0\n",
      "2      0\n",
      "3      0\n",
      "4      0\n",
      "      ..\n",
      "469    1\n",
      "470    1\n",
      "471    0\n",
      "472    0\n",
      "473    0\n",
      "Name: MINORITY, Length: 474, dtype: int64\n"
     ]
    }
   ],
   "source": [
    "print(salary['MINORITY'].nunique())\n",
    "print(salary['MINORITY'])"
   ]
  },
  {
   "cell_type": "code",
   "execution_count": 36,
   "id": "86601c46-ca3d-406d-88c1-fed004736935",
   "metadata": {},
   "outputs": [
    {
     "data": {
      "text/html": [
       "<table class=\"simpletable\">\n",
       "<caption>OLS Regression Results</caption>\n",
       "<tr>\n",
       "  <th>Dep. Variable:</th>         <td>GENDER</td>      <th>  R-squared:         </th> <td>   0.006</td>\n",
       "</tr>\n",
       "<tr>\n",
       "  <th>Model:</th>                   <td>OLS</td>       <th>  Adj. R-squared:    </th> <td>   0.004</td>\n",
       "</tr>\n",
       "<tr>\n",
       "  <th>Method:</th>             <td>Least Squares</td>  <th>  F-statistic:       </th> <td>   2.718</td>\n",
       "</tr>\n",
       "<tr>\n",
       "  <th>Date:</th>             <td>Mon, 31 May 2021</td> <th>  Prob (F-statistic):</th>  <td>0.0999</td> \n",
       "</tr>\n",
       "<tr>\n",
       "  <th>Time:</th>                 <td>11:48:51</td>     <th>  Log-Likelihood:    </th> <td> -340.80</td>\n",
       "</tr>\n",
       "<tr>\n",
       "  <th>No. Observations:</th>      <td>   474</td>      <th>  AIC:               </th> <td>   685.6</td>\n",
       "</tr>\n",
       "<tr>\n",
       "  <th>Df Residuals:</th>          <td>   472</td>      <th>  BIC:               </th> <td>   693.9</td>\n",
       "</tr>\n",
       "<tr>\n",
       "  <th>Df Model:</th>              <td>     1</td>      <th>                     </th>     <td> </td>   \n",
       "</tr>\n",
       "<tr>\n",
       "  <th>Covariance Type:</th>      <td>nonrobust</td>    <th>                     </th>     <td> </td>   \n",
       "</tr>\n",
       "</table>\n",
       "<table class=\"simpletable\">\n",
       "<tr>\n",
       "      <td></td>         <th>coef</th>     <th>std err</th>      <th>t</th>      <th>P>|t|</th>  <th>[0.025</th>    <th>0.975]</th>  \n",
       "</tr>\n",
       "<tr>\n",
       "  <th>Intercept</th> <td>    0.5243</td> <td>    0.026</td> <td>   20.266</td> <td> 0.000</td> <td>    0.473</td> <td>    0.575</td>\n",
       "</tr>\n",
       "<tr>\n",
       "  <th>MINORITY</th>  <td>    0.0911</td> <td>    0.055</td> <td>    1.649</td> <td> 0.100</td> <td>   -0.017</td> <td>    0.200</td>\n",
       "</tr>\n",
       "</table>\n",
       "<table class=\"simpletable\">\n",
       "<tr>\n",
       "  <th>Omnibus:</th>       <td>2056.844</td> <th>  Durbin-Watson:     </th> <td>   0.926</td>\n",
       "</tr>\n",
       "<tr>\n",
       "  <th>Prob(Omnibus):</th>  <td> 0.000</td>  <th>  Jarque-Bera (JB):  </th> <td>  77.254</td>\n",
       "</tr>\n",
       "<tr>\n",
       "  <th>Skew:</th>           <td>-0.175</td>  <th>  Prob(JB):          </th> <td>1.68e-17</td>\n",
       "</tr>\n",
       "<tr>\n",
       "  <th>Kurtosis:</th>       <td> 1.054</td>  <th>  Cond. No.          </th> <td>    2.56</td>\n",
       "</tr>\n",
       "</table><br/><br/>Notes:<br/>[1] Standard Errors assume that the covariance matrix of the errors is correctly specified."
      ],
      "text/plain": [
       "<class 'statsmodels.iolib.summary.Summary'>\n",
       "\"\"\"\n",
       "                            OLS Regression Results                            \n",
       "==============================================================================\n",
       "Dep. Variable:                 GENDER   R-squared:                       0.006\n",
       "Model:                            OLS   Adj. R-squared:                  0.004\n",
       "Method:                 Least Squares   F-statistic:                     2.718\n",
       "Date:                Mon, 31 May 2021   Prob (F-statistic):             0.0999\n",
       "Time:                        11:48:51   Log-Likelihood:                -340.80\n",
       "No. Observations:                 474   AIC:                             685.6\n",
       "Df Residuals:                     472   BIC:                             693.9\n",
       "Df Model:                           1                                         \n",
       "Covariance Type:            nonrobust                                         \n",
       "==============================================================================\n",
       "                 coef    std err          t      P>|t|      [0.025      0.975]\n",
       "------------------------------------------------------------------------------\n",
       "Intercept      0.5243      0.026     20.266      0.000       0.473       0.575\n",
       "MINORITY       0.0911      0.055      1.649      0.100      -0.017       0.200\n",
       "==============================================================================\n",
       "Omnibus:                     2056.844   Durbin-Watson:                   0.926\n",
       "Prob(Omnibus):                  0.000   Jarque-Bera (JB):               77.254\n",
       "Skew:                          -0.175   Prob(JB):                     1.68e-17\n",
       "Kurtosis:                       1.054   Cond. No.                         2.56\n",
       "==============================================================================\n",
       "\n",
       "Notes:\n",
       "[1] Standard Errors assume that the covariance matrix of the errors is correctly specified.\n",
       "\"\"\""
      ]
     },
     "execution_count": 36,
     "metadata": {},
     "output_type": "execute_result"
    }
   ],
   "source": [
    "smf.ols(formula='GENDER ~ MINORITY', data=salary).fit().summary()"
   ]
  },
  {
   "cell_type": "code",
   "execution_count": null,
   "id": "c29b0203-967f-4180-b7e4-1c9df438d23e",
   "metadata": {},
   "outputs": [],
   "source": []
  }
 ],
 "metadata": {
  "kernelspec": {
   "display_name": "Python 3",
   "language": "python",
   "name": "python3"
  },
  "language_info": {
   "codemirror_mode": {
    "name": "ipython",
    "version": 3
   },
   "file_extension": ".py",
   "mimetype": "text/x-python",
   "name": "python",
   "nbconvert_exporter": "python",
   "pygments_lexer": "ipython3",
   "version": "3.8.5"
  }
 },
 "nbformat": 4,
 "nbformat_minor": 5
}
